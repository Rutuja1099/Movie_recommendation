{
  "nbformat": 4,
  "nbformat_minor": 0,
  "metadata": {
    "colab": {
      "provenance": [],
      "gpuType": "T4"
    },
    "kernelspec": {
      "name": "python3",
      "display_name": "Python 3"
    },
    "language_info": {
      "name": "python"
    },
    "accelerator": "GPU"
  },
  "cells": [
    {
      "cell_type": "code",
      "source": [
        "!pip install scikit-surprise"
      ],
      "metadata": {
        "colab": {
          "base_uri": "https://localhost:8080/"
        },
        "id": "t85HRWPCj-wV",
        "outputId": "9fb21d7f-0ee9-4a2a-bff4-625530f42a4e"
      },
      "execution_count": 3,
      "outputs": [
        {
          "output_type": "stream",
          "name": "stdout",
          "text": [
            "Requirement already satisfied: scikit-surprise in /usr/local/lib/python3.10/dist-packages (1.1.3)\n",
            "Requirement already satisfied: joblib>=1.0.0 in /usr/local/lib/python3.10/dist-packages (from scikit-surprise) (1.3.2)\n",
            "Requirement already satisfied: numpy>=1.17.3 in /usr/local/lib/python3.10/dist-packages (from scikit-surprise) (1.25.2)\n",
            "Requirement already satisfied: scipy>=1.3.2 in /usr/local/lib/python3.10/dist-packages (from scikit-surprise) (1.11.4)\n"
          ]
        }
      ]
    },
    {
      "cell_type": "code",
      "source": [
        "!pip install chardet\n",
        "\n",
        "# Import the required module\n",
        "import chardet\n",
        "# Open the movies.dat file for reading\n",
        "with open('movies.dat', 'rb') as f:\n",
        "    encoding = chardet.detect(f.read())['encoding']\n",
        "\n",
        "# Use chardet to detect the encoding of the file\n",
        "\n",
        "# Print the detected encoding\n",
        "print(f\"Detected encoding: {encoding}\")"
      ],
      "metadata": {
        "colab": {
          "base_uri": "https://localhost:8080/"
        },
        "id": "mbKc5nkElVG9",
        "outputId": "21637a30-1ddc-4f15-e34e-9fcea9a8e368"
      },
      "execution_count": 4,
      "outputs": [
        {
          "output_type": "stream",
          "name": "stdout",
          "text": [
            "Requirement already satisfied: chardet in /usr/local/lib/python3.10/dist-packages (5.2.0)\n",
            "Detected encoding: ISO-8859-1\n"
          ]
        }
      ]
    },
    {
      "cell_type": "code",
      "source": [
        "import numpy as np\n",
        "import pandas as pd\n",
        "from sklearn.cluster import KMeans\n",
        "from surprise import Dataset, Reader, SVD, accuracy\n",
        "from surprise.model_selection import train_test_split\n",
        "\n",
        "# Load data from .dat files\n",
        "ratings_df = pd.read_csv('ratings.dat', sep='::', engine='python', header=None,\n",
        "                         names=['UserID', 'MovieID', 'Rating', 'Timestamp'])\n",
        "movies_df = pd.read_csv('movies.dat', sep='::', engine='python', header=None,\n",
        "                        names=['MovieID', 'Title', 'Genres'], encoding=encoding)\n",
        "\n",
        "# Preprocessing: Create genre_ratings DataFrame\n",
        "genre_ratings = []\n",
        "for index, row in ratings_df.iterrows():\n",
        "    movie_genres = movies_df[movies_df['MovieID'] == row['MovieID']]['Genres'].values[0].split('|')\n",
        "    for genre in movie_genres:\n",
        "        genre_ratings.append((row['UserID'], genre, row['Rating']))\n",
        "\n",
        "genre_ratings_df = pd.DataFrame(genre_ratings, columns=['UserID', 'Genre', 'Rating'])\n",
        "\n",
        "# Save genre ratings to 'genre.dat'\n",
        "genre_ratings_df.to_csv('genre.dat', index=False)"
      ],
      "metadata": {
        "id": "a6zbqve0GfqA"
      },
      "execution_count": 5,
      "outputs": []
    },
    {
      "cell_type": "code",
      "source": [
        "# Convert genre_ratings_df to Surprise Dataset\n",
        "reader = Reader(rating_scale=(1, 5))\n",
        "data = Dataset.load_from_df(genre_ratings_df[['UserID', 'Genre', 'Rating']], reader)\n",
        "\n",
        "# Train-test split\n",
        "trainset, testset = train_test_split(data, test_size=0.2)\n",
        "\n",
        "\n",
        "# K-means clustering\n",
        "# Create a pivot table for genre ratings\n",
        "pivot_table = pd.pivot_table(genre_ratings_df, values='Rating', index='UserID', columns='Genre', fill_value=0)\n",
        "\n",
        "# Fit k-means clustering\n",
        "kmeans = KMeans(n_clusters=5)  # Adjust the number of clusters as needed\n",
        "kmeans.fit(pivot_table)\n",
        "\n",
        "def recommend_movies(user_id, n=10):\n",
        "    # Get the cluster label of the user\n",
        "    user_cluster_label = kmeans.predict([pivot_table.loc[user_id]])\n",
        "\n",
        "    # Get users within the same cluster\n",
        "    cluster_users = kmeans.labels_ == user_cluster_label\n",
        "\n",
        "    # Filter ratings of users in the same cluster\n",
        "    cluster_ratings = pivot_table.iloc[cluster_users]\n",
        "\n",
        "    # Calculate the average rating for each movie\n",
        "    avg_ratings = cluster_ratings.mean()\n",
        "\n",
        "    # Sort movies by average rating and recommend the top n movies\n",
        "    top_movies = avg_ratings.sort_values(ascending=False).head(n)\n",
        "\n",
        "    # Retrieve movie titles based on Genre\n",
        "    recommended_movies = movies_df[movies_df['Genres'].str.contains(top_movies.index[0])]['Title']\n",
        "    return recommended_movies\n",
        "\n",
        "# Example usage:\n",
        "user_id = 104\n",
        "recommended_movies = recommend_movies(user_id)\n",
        "print(\"Recommended movies for User id: \",user_id);\n",
        "print(recommended_movies)\n",
        "\n"
      ],
      "metadata": {
        "colab": {
          "base_uri": "https://localhost:8080/"
        },
        "id": "xgBYP7etfB63",
        "outputId": "9d41d009-e7ff-4960-b17a-d0138de65302"
      },
      "execution_count": 6,
      "outputs": [
        {
          "output_type": "stream",
          "name": "stderr",
          "text": [
            "/usr/local/lib/python3.10/dist-packages/sklearn/cluster/_kmeans.py:870: FutureWarning: The default value of `n_init` will change from 10 to 'auto' in 1.4. Set the value of `n_init` explicitly to suppress the warning\n",
            "  warnings.warn(\n"
          ]
        },
        {
          "output_type": "stream",
          "name": "stdout",
          "text": [
            "Recommended movies for User id:  104\n",
            "162                      Devil in a Blue Dress (1995)\n",
            "317                                     Suture (1993)\n",
            "537                               Blade Runner (1982)\n",
            "698                           Mulholland Falls (1996)\n",
            "736                              Force of Evil (1948)\n",
            "901                        Maltese Falcon, The (1941)\n",
            "910     Sunset Blvd. (a.k.a. Sunset Boulevard) (1950)\n",
            "918                                  Notorious (1946)\n",
            "930                                      Laura (1944)\n",
            "1054                                 Crossfire (1947)\n",
            "1055                          Murder, My Sweet (1944)\n",
            "1136                        He Walked by Night (1948)\n",
            "1137                                  Raw Deal (1948)\n",
            "1138                                     T-Men (1947)\n",
            "1163                             Grifters, The (1990)\n",
            "1228                             Touch of Evil (1958)\n",
            "1232                                 Chinatown (1974)\n",
            "1240                                         M (1931)\n",
            "1247                 Manchurian Candidate, The (1962)\n",
            "1264                            Big Sleep, The (1946)\n",
            "1323                                 Cape Fear (1962)\n",
            "1560                                   Hoodlum (1997)\n",
            "1575                         L.A. Confidential (1997)\n",
            "1696                                 Dark City (1998)\n",
            "1725                                  Palmetto (1998)\n",
            "1939            This World, Then the Fireworks (1996)\n",
            "1997                           Out of the Past (1947)\n",
            "2113                            Wrong Man, The (1956)\n",
            "2117                      Strangers on a Train (1951)\n",
            "2134                         Shadow of a Doubt (1943)\n",
            "2562                          Frogs for Snakes (1998)\n",
            "2657                              Killing, The (1956)\n",
            "2658                             Killer's Kiss (1955)\n",
            "2871                                     Gilda (1946)\n",
            "2918                  Who Framed Roger Rabbit? (1988)\n",
            "3052                          Hitch-Hiker, The (1953)\n",
            "3223                            Big Combo, The (1955)\n",
            "3236                                 Bluebeard (1944)\n",
            "3265                                 Key Largo (1948)\n",
            "3295                       Asphalt Jungle, The (1950)\n",
            "3311                               Railroaded! (1947)\n",
            "3366                          Double Indemnity (1944)\n",
            "3614                              Blood Simple (1984)\n",
            "3637                               Angel Heart (1987)\n",
            "Name: Title, dtype: object\n"
          ]
        },
        {
          "output_type": "stream",
          "name": "stderr",
          "text": [
            "/usr/local/lib/python3.10/dist-packages/sklearn/base.py:439: UserWarning: X does not have valid feature names, but KMeans was fitted with feature names\n",
            "  warnings.warn(\n"
          ]
        }
      ]
    },
    {
      "cell_type": "code",
      "source": [
        "import math\n",
        "\n",
        "def compute_inverse_sigma(sigma_k):\n",
        "    inverse_sigma_k = np.zeros_like(sigma_k.T)  # Initialize the inverse matrix with zeros\n",
        "    for i in range(min(sigma_k.shape)):\n",
        "        if sigma_k[i, i] != 0:\n",
        "            inverse_sigma_k[i, i] = 1 / sigma_k[i, i]\n",
        "    return inverse_sigma_k\n",
        "\n",
        "# Implement Singular Value Decomposition (SVD)\n",
        "def custom_svd(A):\n",
        "    num_users = len(A)\n",
        "    num_genres = len(A.columns)\n",
        "\n",
        "    print(num_users,num_genres)\n",
        "\n",
        "    # Transpose of A times A\n",
        "    ATA = A.T @ A\n",
        "    # AAT = A @ A.T\n",
        "\n",
        "    print('ATA size {}'.format(ATA.shape))\n",
        "\n",
        "    # Eigenvalues and eigenvectors of ATA\n",
        "    eigenvalues, eigenvectors = np.linalg.eig(ATA)\n",
        "\n",
        "    print(\"eigen values vectors done\")\n",
        "\n",
        "    # Sort eigenvalues in descending order\n",
        "    sorted_indices = np.argsort(eigenvalues)[::-1]\n",
        "    sorted_eigenvalues = eigenvalues[sorted_indices]\n",
        "    sorted_eigenvectors = eigenvectors[:, sorted_indices]\n",
        "\n",
        "    print(\"sorted vectors\")\n",
        "    S=[[0 for _ in range(num_genres)] for _ in range(num_users)]\n",
        "    for i in range(num_genres):\n",
        "        S[i][i] = math.sqrt(sorted_eigenvalues[i])\n",
        "\n",
        "    S=np.array(S)\n",
        "\n",
        "    print('sigma size {}'.format(S.shape))\n",
        "\n",
        "    print('A {} V {} S {}'.format(A.shape, sorted_eigenvectors.shape, S.shape))\n",
        "\n",
        "    # U matrix\n",
        "    U = A @ sorted_eigenvectors @ compute_inverse_sigma(S)\n",
        "    Vt = sorted_eigenvectors\n",
        "    print(U)\n",
        "    return U, S, Vt\n",
        "\n",
        "# Reduce dimensionality\n",
        "def reduce_dimensionality(U, sigma, Vt, k):\n",
        "\n",
        "     # Convert U to a list of lists\n",
        "    U_list = U.values.tolist()\n",
        "\n",
        "    U_k = np.array([row[:k] for row in U_list])\n",
        "    sigma_k = np.array([[sigma[i][j] if i == j else 0.0 for j in range(k)] for i in range(k)])\n",
        "    Vt_k = np.array([row[:k] for row in Vt])\n",
        "\n",
        "    return U_k, sigma_k, Vt_k\n",
        "\n",
        "# Reconstruct the user-item matrix\n",
        "def reconstruct_matrix(U_k, sigma_k, Vt_k):\n",
        "    reconstructed_matrix = [[0] * len(Vt_k[0]) for _ in range(len(U_k))]\n",
        "    reconstructed_matrix=U_k @ sigma_k @ Vt_k.T\n",
        "    return reconstructed_matrix"
      ],
      "metadata": {
        "id": "rytb0kGZDZih"
      },
      "execution_count": 7,
      "outputs": []
    },
    {
      "cell_type": "code",
      "source": [
        "user_genre_avg_ratings = genre_ratings_df.groupby(['UserID', 'Genre'])['Rating'].mean().reset_index()\n",
        "\n",
        "# Pivot the user_genre_avg_ratings to get the user-genre matrix with average ratings\n",
        "user_genre_matrix = user_genre_avg_ratings.pivot_table(index='UserID', columns='Genre', values='Rating', fill_value=0)\n",
        "\n",
        "# Display the user-genre matrix with average ratings\n",
        "print(\"User-Genre Matrix with Average Ratings:\")\n",
        "print(user_genre_matrix)"
      ],
      "metadata": {
        "colab": {
          "base_uri": "https://localhost:8080/"
        },
        "id": "QpAfWmGvFxS3",
        "outputId": "90bd9354-8d7c-4de0-f23c-58346e5c1f4a"
      },
      "execution_count": 8,
      "outputs": [
        {
          "output_type": "stream",
          "name": "stdout",
          "text": [
            "User-Genre Matrix with Average Ratings:\n",
            "Genre     Action  Adventure  Animation  Children's    Comedy     Crime  \\\n",
            "UserID                                                                   \n",
            "1       4.200000   4.000000   4.111111    4.250000  4.142857  4.000000   \n",
            "2       3.500000   3.736842   0.000000    0.000000  3.560000  3.583333   \n",
            "3       3.956522   4.000000   4.000000    4.000000  3.766667  0.000000   \n",
            "4       4.157895   3.833333   0.000000    4.000000  0.000000  5.000000   \n",
            "5       2.612903   3.000000   4.000000    3.833333  3.410714  3.285714   \n",
            "...          ...        ...        ...         ...       ...       ...   \n",
            "6036    3.000000   2.987952   3.911765    3.444444  3.203065  3.528302   \n",
            "6037    3.642857   4.000000   4.000000    3.666667  3.576271  3.833333   \n",
            "6038    3.000000   4.000000   3.666667    3.000000  3.833333  0.000000   \n",
            "6039    4.000000   4.100000   3.615385    3.529412  3.723077  4.000000   \n",
            "6040    2.976190   2.818182   3.000000    4.000000  3.274510  3.920000   \n",
            "\n",
            "Genre   Documentary     Drama  Fantasy  Film-Noir    Horror   Musical  \\\n",
            "UserID                                                                  \n",
            "1          0.000000  4.428571     4.00   0.000000  0.000000  4.285714   \n",
            "2          0.000000  3.898734     3.00   4.000000  3.000000  0.000000   \n",
            "3          0.000000  4.000000     4.50   0.000000  2.666667  4.000000   \n",
            "4          0.000000  4.166667     4.50   0.000000  4.333333  0.000000   \n",
            "5          3.666667  3.096154     0.00   4.000000  2.800000  3.333333   \n",
            "...             ...       ...      ...        ...       ...       ...   \n",
            "6036       3.909091  3.505376     3.00   4.058824  2.986486  3.709677   \n",
            "6037       4.000000  3.877551     4.25   3.444444  4.111111  4.000000   \n",
            "6038       0.000000  3.888889     0.00   0.000000  2.500000  0.000000   \n",
            "6039       0.000000  4.000000     3.60   4.500000  4.000000  3.690476   \n",
            "6040       4.500000  3.821622     3.50   4.000000  2.590909  4.000000   \n",
            "\n",
            "Genre    Mystery   Romance    Sci-Fi  Thriller       War   Western  \n",
            "UserID                                                              \n",
            "1       0.000000  3.666667  4.333333  3.666667  5.000000  0.000000  \n",
            "2       3.333333  3.708333  3.588235  3.483871  3.733333  4.333333  \n",
            "3       3.000000  3.800000  3.833333  3.800000  4.000000  4.666667  \n",
            "4       0.000000  4.000000  3.555556  3.500000  3.333333  4.500000  \n",
            "5       3.125000  3.100000  3.066667  2.846154  3.500000  4.000000  \n",
            "...          ...       ...       ...       ...       ...       ...  \n",
            "6036    3.411765  3.352459  2.834320  3.142857  3.785714  3.642857  \n",
            "6037    3.692308  3.681818  3.692308  3.705882  4.000000  3.750000  \n",
            "6038    0.000000  4.166667  4.000000  0.000000  4.000000  0.000000  \n",
            "6039    4.176471  3.800000  4.250000  4.142857  4.111111  4.500000  \n",
            "6040    4.454545  3.488889  3.473684  3.926829  3.695652  4.000000  \n",
            "\n",
            "[6040 rows x 18 columns]\n"
          ]
        }
      ]
    },
    {
      "cell_type": "code",
      "source": [
        "U, sigma, Vt = custom_svd(user_genre_matrix)\n",
        "\n",
        "print('U size {}'.format(U.shape))\n",
        "print('sigma size {}'.format(sigma.shape))\n",
        "print('Vt size {}'.format(Vt.shape))"
      ],
      "metadata": {
        "colab": {
          "base_uri": "https://localhost:8080/"
        },
        "id": "EAWoMdRFMbgA",
        "outputId": "62cfbcce-0aee-46e5-ce9d-6d0473b15416"
      },
      "execution_count": 9,
      "outputs": [
        {
          "output_type": "stream",
          "name": "stdout",
          "text": [
            "6040 18\n",
            "ATA size (18, 18)\n",
            "eigen values vectors done\n",
            "sorted vectors\n",
            "sigma size (6040, 18)\n",
            "A (6040, 18) V (18, 18) S (6040, 18)\n",
            "            0         1         2         3         4         5         6     \\\n",
            "UserID                                                                         \n",
            "1      -0.012447 -0.022036 -0.024687 -0.015701  0.004437  0.004703 -0.010629   \n",
            "2      -0.011368 -0.005980  0.027606  0.023397 -0.013759  0.006680  0.004013   \n",
            "3      -0.012886 -0.007925 -0.026097  0.015377 -0.009282  0.002040  0.001362   \n",
            "4      -0.011002 -0.016658 -0.003863  0.018414 -0.029082  0.021962  0.010605   \n",
            "5      -0.012109  0.017805 -0.001100 -0.006269 -0.001800 -0.023552  0.012652   \n",
            "...          ...       ...       ...       ...       ...       ...       ...   \n",
            "6036   -0.013105  0.018286 -0.002774 -0.004088 -0.003579 -0.002271  0.001645   \n",
            "6037   -0.014788  0.013903 -0.005569 -0.003778 -0.008340  0.006504 -0.001174   \n",
            "6038   -0.008391 -0.020671 -0.011349 -0.015537  0.002816 -0.002463  0.025114   \n",
            "6039   -0.015008  0.002265  0.000792  0.019828  0.006134 -0.002246  0.001100   \n",
            "6040   -0.013947  0.019613  0.000839 -0.004154 -0.008121 -0.001321 -0.003826   \n",
            "\n",
            "            7         8         9     ...  6030  6031  6032  6033  6034  6035  \\\n",
            "UserID                                ...                                       \n",
            "1       0.031851 -0.001252  0.007041  ...   0.0   0.0   0.0   0.0   0.0   0.0   \n",
            "2       0.004383  0.007598 -0.005424  ...   0.0   0.0   0.0   0.0   0.0   0.0   \n",
            "3      -0.001997 -0.015396 -0.035937  ...   0.0   0.0   0.0   0.0   0.0   0.0   \n",
            "4      -0.000525  0.017519  0.030042  ...   0.0   0.0   0.0   0.0   0.0   0.0   \n",
            "5       0.001785  0.009171 -0.002719  ...   0.0   0.0   0.0   0.0   0.0   0.0   \n",
            "...          ...       ...       ...  ...   ...   ...   ...   ...   ...   ...   \n",
            "6036    0.001861  0.001050 -0.000267  ...   0.0   0.0   0.0   0.0   0.0   0.0   \n",
            "6037   -0.007079  0.000830 -0.000529  ...   0.0   0.0   0.0   0.0   0.0   0.0   \n",
            "6038    0.003820  0.019063 -0.039305  ...   0.0   0.0   0.0   0.0   0.0   0.0   \n",
            "6039   -0.003676  0.003955 -0.000553  ...   0.0   0.0   0.0   0.0   0.0   0.0   \n",
            "6040    0.003670 -0.011090  0.004842  ...   0.0   0.0   0.0   0.0   0.0   0.0   \n",
            "\n",
            "        6036  6037  6038  6039  \n",
            "UserID                          \n",
            "1        0.0   0.0   0.0   0.0  \n",
            "2        0.0   0.0   0.0   0.0  \n",
            "3        0.0   0.0   0.0   0.0  \n",
            "4        0.0   0.0   0.0   0.0  \n",
            "5        0.0   0.0   0.0   0.0  \n",
            "...      ...   ...   ...   ...  \n",
            "6036     0.0   0.0   0.0   0.0  \n",
            "6037     0.0   0.0   0.0   0.0  \n",
            "6038     0.0   0.0   0.0   0.0  \n",
            "6039     0.0   0.0   0.0   0.0  \n",
            "6040     0.0   0.0   0.0   0.0  \n",
            "\n",
            "[6040 rows x 6040 columns]\n",
            "U size (6040, 6040)\n",
            "sigma size (6040, 18)\n",
            "Vt size (18, 18)\n"
          ]
        }
      ]
    },
    {
      "cell_type": "code",
      "source": [],
      "metadata": {
        "id": "y3ieT0rqgZk1"
      },
      "execution_count": null,
      "outputs": []
    }
  ]
}